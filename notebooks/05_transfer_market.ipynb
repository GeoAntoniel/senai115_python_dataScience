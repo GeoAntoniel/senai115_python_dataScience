{
 "cells": [
  {
   "cell_type": "code",
   "execution_count": 35,
   "id": "ec975400-0dfd-4a34-819c-e125bdfb41cb",
   "metadata": {},
   "outputs": [],
   "source": [
    "#instalar a biblioteca\n",
    "#!pip install selenium\n",
    "#importar as bibliotecas\n",
    "from selenium import webdriver #manipular dados na web\n",
    "from selenium.webdriver.common.by import By #"
   ]
  },
  {
   "cell_type": "code",
   "execution_count": 43,
   "id": "5548156b-9e24-4977-977b-9206ac9a5985",
   "metadata": {},
   "outputs": [
    {
     "name": "stdout",
     "output_type": "stream",
     "text": [
      "['1', 'River Plate', 'Superliga', 'Mâs Monumental', '84.567', '11', 'Primeira', 'Divisão', '14', '1.183.938', '12', '84.567']\n"
     ]
    }
   ],
   "source": [
    "driver = webdriver.Chrome() #chamar a classe do chrome\n",
    "\n",
    "driver.implicitly_wait(2) #método esperar dois segundos\n",
    "\n",
    "driver.get('https://www.transfermarkt.com.br/verein-statistik/zuschauerrangliste/\\\n",
    "statistik/stat/plus/1?selectedOptionKey=0&wettbewerb=liga')\n",
    "#dados_tabela = driver.find_elements(By.TAG_NAME, 'td')\n",
    "linhas_impares = driver.find_elements(By.CLASS_NAME, 'odd')\n",
    "dados = linhas_impares[0].text.split('\\n')\n",
    "dados += dados[4].split()\n",
    "dados.pop(4)\n",
    "print(dados)\n",
    "\n",
    "#print(linhas_impares[0].text)"
   ]
  },
  {
   "cell_type": "code",
   "execution_count": null,
   "id": "fa9893ba-d202-49c6-a6fe-5d01ce6c7db7",
   "metadata": {},
   "outputs": [],
   "source": []
  }
 ],
 "metadata": {
  "kernelspec": {
   "display_name": "Python 3 (ipykernel)",
   "language": "python",
   "name": "python3"
  },
  "language_info": {
   "codemirror_mode": {
    "name": "ipython",
    "version": 3
   },
   "file_extension": ".py",
   "mimetype": "text/x-python",
   "name": "python",
   "nbconvert_exporter": "python",
   "pygments_lexer": "ipython3",
   "version": "3.12.4"
  }
 },
 "nbformat": 4,
 "nbformat_minor": 5
}
